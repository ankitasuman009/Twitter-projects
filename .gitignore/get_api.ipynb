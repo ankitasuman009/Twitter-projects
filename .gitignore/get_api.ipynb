{
 "cells": [
  {
   "cell_type": "code",
   "execution_count": 1,
   "metadata": {},
   "outputs": [],
   "source": [
    "import tweepy\n",
    "import pandas as pd\n",
    "import json\n",
    "import os"
   ]
  },
  {
   "cell_type": "code",
   "execution_count": 2,
   "metadata": {},
   "outputs": [],
   "source": [
    "twitter_key = {\n",
    "    \"api_key\": \"jbwrU1Wk8AzrGVHLERJ4oGhWm\",\n",
    "    \"api_secret_key\": \"aqGCnT4nZturAdh9NIMpuUti2TR1vFxaKjqRgWEB2rt7TuIu0u\",\n",
    "    \"access_key\": \"1354767698736140289-zg60FdiM5tDdZZcjujtdXmTC3T28XT\",\n",
    "    \"access_secret_key\": \"5cQJ3JgXY6X36D6Y74ngYyg7lcNwA2GpBclX6CCE4UV8n\"\n",
    "}\n"
   ]
  },
  {
   "cell_type": "code",
   "execution_count": 3,
   "metadata": {},
   "outputs": [],
   "source": [
    "auth = tweepy.OAuthHandler(twitter_key[\"api_key\"], twitter_key[\"api_secret_key\"])\n",
    "auth.set_access_token(twitter_key[\"access_key\"], twitter_key[\"access_secret_key\"])\n",
    "api = tweepy.API(auth, wait_on_rate_limit = True)"
   ]
  },
  {
   "cell_type": "code",
   "execution_count": null,
   "metadata": {},
   "outputs": [],
   "source": []
  }
 ],
 "metadata": {
  "kernelspec": {
   "display_name": "Python 3",
   "language": "python",
   "name": "python3"
  },
  "language_info": {
   "codemirror_mode": {
    "name": "ipython",
    "version": 3
   },
   "file_extension": ".py",
   "mimetype": "text/x-python",
   "name": "python",
   "nbconvert_exporter": "python",
   "pygments_lexer": "ipython3",
   "version": "3.7.6"
  }
 },
 "nbformat": 4,
 "nbformat_minor": 4
}
