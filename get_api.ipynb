{
 "cells": [
  {
   "cell_type": "code",
   "execution_count": 1,
   "metadata": {},
   "outputs": [],
   "source": [
    "import tweepy"
   ]
  },
  {
   "cell_type": "code",
   "execution_count": 2,
   "metadata": {},
   "outputs": [],
   "source": [
    "key = {\n",
    "    \"api_key\": \"6dcN0Eh9tjaJC9OpkAuX22WCH\",\n",
    "    \"api_secret_key\": \"c0cG9ZCHygs6N31ie3jvabM6uJPPNiAGWYFfFLzR125BtnRItR\",\n",
    "    \"access_key\": \"1397984630385647621-nkFXlMYK5HDoENsFB4ZKtV8rRzfKEH\",\n",
    "    \"access_secret_key\": \"NH5rq1JcA5ZvVD7z1ogZbIyMNeS1ajirxVMGmdre4eBPU\"\n",
    "}"
   ]
  },
  {
   "cell_type": "code",
   "execution_count": 3,
   "metadata": {},
   "outputs": [],
   "source": [
    "auth = tweepy.OAuthHandler(key[\"api_key\"], key[\"api_secret_key\"])\n",
    "auth.set_access_token(key[\"access_key\"], key[\"access_secret_key\"])\n",
    "api = tweepy.API(auth, wait_on_rate_limit=True)"
   ]
  },
  {
   "cell_type": "code",
   "execution_count": null,
   "metadata": {},
   "outputs": [],
   "source": []
  }
 ],
 "metadata": {
  "kernelspec": {
   "display_name": "Python 3",
   "language": "python",
   "name": "python3"
  },
  "language_info": {
   "codemirror_mode": {
    "name": "ipython",
    "version": 3
   },
   "file_extension": ".py",
   "mimetype": "text/x-python",
   "name": "python",
   "nbconvert_exporter": "python",
   "pygments_lexer": "ipython3",
   "version": "3.7.6"
  }
 },
 "nbformat": 4,
 "nbformat_minor": 4
}
